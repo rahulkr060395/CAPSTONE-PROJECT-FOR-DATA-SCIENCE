{
  "nbformat": 4,
  "nbformat_minor": 0,
  "metadata": {
    "colab": {
      "name": "clustring_neighbourhood_part_1.ipynb",
      "provenance": []
    },
    "kernelspec": {
      "name": "python3",
      "display_name": "Python 3"
    }
  },
  "cells": [
    {
      "cell_type": "code",
      "metadata": {
        "id": "n7oeaSnRh4KH",
        "colab_type": "code",
        "colab": {}
      },
      "source": [
        ""
      ],
      "execution_count": 0,
      "outputs": []
    },
    {
      "cell_type": "markdown",
      "metadata": {
        "id": "sEWIN35giJNi",
        "colab_type": "text"
      },
      "source": [
        "**For this assignment, you will be required to explore and cluster the neighborhoods in Toronto**.\n",
        "\n",
        "Start by creating a new Notebook for this assignment.\n",
        "Use the Notebook to build the code to scrape the following Wikipedia page, https://en.wikipedia.org/wiki/List_of_postal_codes_of_Canada:_M, in order to obtain the data that is in the table of postal codes and to transform the data into a pandas dataframe like the one shown below:"
      ]
    },
    {
      "cell_type": "code",
      "metadata": {
        "id": "Wjlx2MlQiQJ9",
        "colab_type": "code",
        "colab": {}
      },
      "source": [
        "\n",
        "import requests\n",
        "import lxml.html as lh\n",
        "import pandas as pd"
      ],
      "execution_count": 0,
      "outputs": []
    },
    {
      "cell_type": "code",
      "metadata": {
        "id": "VWwbNvt2ieE6",
        "colab_type": "code",
        "colab": {}
      },
      "source": [
        "url='https://en.wikipedia.org/wiki/List_of_postal_codes_of_Canada:_M'\n",
        "\n",
        "#Create a handle, page, to handle the contents of the website\n",
        "page = requests.get(url)\n",
        "\n",
        "#Store the contents of the website under doc\n",
        "doc = lh.fromstring(page.content)\n",
        "\n",
        "#Parse data that are stored between <tr>..</tr> of HTML\n",
        "tr_elements = doc.xpath('//tr')"
      ],
      "execution_count": 0,
      "outputs": []
    },
    {
      "cell_type": "code",
      "metadata": {
        "id": "vuQh7RZLiiMo",
        "colab_type": "code",
        "colab": {
          "base_uri": "https://localhost:8080/",
          "height": 34
        },
        "outputId": "ce43c082-1cf7-4c13-9362-6e4652419c7c"
      },
      "source": [
        "#Check the length of the first 12 rows\n",
        "[len(T) for T in tr_elements[:12]]"
      ],
      "execution_count": 3,
      "outputs": [
        {
          "output_type": "execute_result",
          "data": {
            "text/plain": [
              "[3, 3, 3, 3, 3, 3, 3, 3, 3, 3, 3, 3]"
            ]
          },
          "metadata": {
            "tags": []
          },
          "execution_count": 3
        }
      ]
    },
    {
      "cell_type": "code",
      "metadata": {
        "id": "DWvEnqe5il6K",
        "colab_type": "code",
        "colab": {
          "base_uri": "https://localhost:8080/",
          "height": 119
        },
        "outputId": "00db148f-0b74-4aa1-e1c8-3df928ab8025"
      },
      "source": [
        "# Parse the first row as our header\n",
        "tr_elements = doc.xpath('//tr')\n",
        "\n",
        "#Create empty list\n",
        "col=[]\n",
        "i=0\n",
        "\n",
        "#For each row, store each first element (header) and an empty list\n",
        "for t in tr_elements[0]:\n",
        "    i+=1\n",
        "    name=t.text_content()\n",
        "    print ('%d:\"%s\"'%(i,name))\n",
        "    col.append((name,[]))"
      ],
      "execution_count": 4,
      "outputs": [
        {
          "output_type": "stream",
          "text": [
            "1:\"Postal Code\n",
            "\"\n",
            "2:\"Borough\n",
            "\"\n",
            "3:\"Neighborhood\n",
            "\"\n"
          ],
          "name": "stdout"
        }
      ]
    },
    {
      "cell_type": "markdown",
      "metadata": {
        "id": "Xc3hETJyjAWZ",
        "colab_type": "text"
      },
      "source": [
        "**Creating Pandas DataFrame**\n",
        "Each header is appended to a tuple along with an empty list."
      ]
    },
    {
      "cell_type": "code",
      "metadata": {
        "id": "fCPEbcsYjC0u",
        "colab_type": "code",
        "colab": {}
      },
      "source": [
        "#Since out first row is the header, data is stored on the second row onwards\n",
        "for j in range(1,len(tr_elements)):\n",
        "    #T is our j'th row\n",
        "    T=tr_elements[j]\n",
        "    \n",
        "    #If row is not of size 3, the //tr data is not from our table \n",
        "    if len(T)!=3:\n",
        "        break\n",
        "    \n",
        "    #i is the index of our column\n",
        "    i=0\n",
        "    \n",
        "    #Iterate through each element of the row\n",
        "    for t in T.iterchildren():\n",
        "        data=t.text_content() \n",
        "        #Check if row is empty\n",
        "        if i>0:\n",
        "        #Convert any numerical value to integers\n",
        "            try:\n",
        "                data=int(data)\n",
        "            except:\n",
        "                pass\n",
        "        #Append the data to the empty list of the i'th column\n",
        "        col[i][1].append(data)\n",
        "        #Increment i for the next column\n",
        "        i+=1"
      ],
      "execution_count": 0,
      "outputs": []
    },
    {
      "cell_type": "code",
      "metadata": {
        "id": "utBOnAkJjLPR",
        "colab_type": "code",
        "colab": {
          "base_uri": "https://localhost:8080/",
          "height": 34
        },
        "outputId": "7790dfa0-f3b6-4ac6-bc96-1ae1bf8d3797"
      },
      "source": [
        "# Check the length of each column. Ideally, they should all be the same\n",
        "[len(C) for (title,C) in col]"
      ],
      "execution_count": 6,
      "outputs": [
        {
          "output_type": "execute_result",
          "data": {
            "text/plain": [
              "[181, 181, 181]"
            ]
          },
          "metadata": {
            "tags": []
          },
          "execution_count": 6
        }
      ]
    },
    {
      "cell_type": "markdown",
      "metadata": {
        "id": "tpFfz1fwjVZ9",
        "colab_type": "text"
      },
      "source": [
        "Creating the pandas data frame"
      ]
    },
    {
      "cell_type": "code",
      "metadata": {
        "id": "pxmHLhY7je5x",
        "colab_type": "code",
        "colab": {}
      },
      "source": [
        "Dict={title:column for (title,column) in col}\n",
        "df=pd.DataFrame(Dict)"
      ],
      "execution_count": 0,
      "outputs": []
    },
    {
      "cell_type": "code",
      "metadata": {
        "id": "rwO5t3JWjffH",
        "colab_type": "code",
        "colab": {}
      },
      "source": [
        ""
      ],
      "execution_count": 0,
      "outputs": []
    },
    {
      "cell_type": "markdown",
      "metadata": {
        "id": "nkE8c3spjlmT",
        "colab_type": "text"
      },
      "source": [
        "**3.To create the above dataframe:**\n",
        "\n",
        "\n",
        "The dataframe will consist of three columns: PostalCode, Borough, and Neighborhood\n",
        "\n",
        "Only process the cells that have an assigned borough. Ignore cells with a borough that is Not assigned.\n",
        "\n",
        "More than one neighborhood can exist in one postal code area. For example, in the table on the Wikipedia page, you will notice that M5A is listed twice and has two neighborhoods: Harbourfront and Regent Park. These two rows will be combined into one row with the neighborhoods separated with a comma as shown in row 11 in the above table.\n",
        "\n",
        "If a cell has a borough but a Not assigned neighborhood, then the neighborhood will be the same as the borough. So for the 9th cell in the table on the Wikipedia page, the value of the Borough and the Neighborhood columns will be Queen's Park.\n",
        "\n",
        "Clean your Notebook and add Markdown cells to explain your work and any assumptions you are making.\n",
        "In the last cell of your notebook, use the .shape method to print the number of rows of your dataframe.\n",
        "**4.Submit a link to your Notebook on your Github repository. (10 marks)**\n",
        "\n",
        "\n",
        "Note: There are different website scraping libraries and packages in Python. One of the most common packages is BeautifulSoup. Here is the package's main documentation page: http://beautiful-soup-4.readthedocs.io/en/latest/\n",
        "\n",
        "The package is so popular that there is a plethora of tutorials and examples of how to use it. Here is a very good Youtube video on how to use the BeautifulSoup package: https://www.youtube.com/watch?v=ng2o98k983k\n",
        "\n",
        "Use the BeautifulSoup package or any other way you are comfortable with to transform the data in the table on the Wikipedia page into the above pandas dataframe"
      ]
    },
    {
      "cell_type": "code",
      "metadata": {
        "id": "wk_vlbmnjwuO",
        "colab_type": "code",
        "colab": {
          "base_uri": "https://localhost:8080/",
          "height": 204
        },
        "outputId": "274f2185-d6a8-44ce-defb-a85373086f57"
      },
      "source": [
        "# Access the top 5 rows of the data frame \n",
        "df.head()\n"
      ],
      "execution_count": 8,
      "outputs": [
        {
          "output_type": "execute_result",
          "data": {
            "text/html": [
              "<div>\n",
              "<style scoped>\n",
              "    .dataframe tbody tr th:only-of-type {\n",
              "        vertical-align: middle;\n",
              "    }\n",
              "\n",
              "    .dataframe tbody tr th {\n",
              "        vertical-align: top;\n",
              "    }\n",
              "\n",
              "    .dataframe thead th {\n",
              "        text-align: right;\n",
              "    }\n",
              "</style>\n",
              "<table border=\"1\" class=\"dataframe\">\n",
              "  <thead>\n",
              "    <tr style=\"text-align: right;\">\n",
              "      <th></th>\n",
              "      <th>Postal Code\\n</th>\n",
              "      <th>Borough\\n</th>\n",
              "      <th>Neighborhood\\n</th>\n",
              "    </tr>\n",
              "  </thead>\n",
              "  <tbody>\n",
              "    <tr>\n",
              "      <th>0</th>\n",
              "      <td>M1A\\n</td>\n",
              "      <td>Not assigned\\n</td>\n",
              "      <td>\\n</td>\n",
              "    </tr>\n",
              "    <tr>\n",
              "      <th>1</th>\n",
              "      <td>M2A\\n</td>\n",
              "      <td>Not assigned\\n</td>\n",
              "      <td>\\n</td>\n",
              "    </tr>\n",
              "    <tr>\n",
              "      <th>2</th>\n",
              "      <td>M3A\\n</td>\n",
              "      <td>North York\\n</td>\n",
              "      <td>Parkwoods\\n</td>\n",
              "    </tr>\n",
              "    <tr>\n",
              "      <th>3</th>\n",
              "      <td>M4A\\n</td>\n",
              "      <td>North York\\n</td>\n",
              "      <td>Victoria Village\\n</td>\n",
              "    </tr>\n",
              "    <tr>\n",
              "      <th>4</th>\n",
              "      <td>M5A\\n</td>\n",
              "      <td>Downtown Toronto\\n</td>\n",
              "      <td>Regent Park, Harbourfront\\n</td>\n",
              "    </tr>\n",
              "  </tbody>\n",
              "</table>\n",
              "</div>"
            ],
            "text/plain": [
              "  Postal Code\\n           Borough\\n               Neighborhood\\n\n",
              "0         M1A\\n      Not assigned\\n                           \\n\n",
              "1         M2A\\n      Not assigned\\n                           \\n\n",
              "2         M3A\\n        North York\\n                  Parkwoods\\n\n",
              "3         M4A\\n        North York\\n           Victoria Village\\n\n",
              "4         M5A\\n  Downtown Toronto\\n  Regent Park, Harbourfront\\n"
            ]
          },
          "metadata": {
            "tags": []
          },
          "execution_count": 8
        }
      ]
    },
    {
      "cell_type": "code",
      "metadata": {
        "id": "RMx6KAagjz_Q",
        "colab_type": "code",
        "colab": {
          "base_uri": "https://localhost:8080/",
          "height": 204
        },
        "outputId": "a466426c-d4f7-46bf-c9a2-73c41ebf371c"
      },
      "source": [
        "df.columns = ['Borough', 'Neighbourhood','Postcode']\n",
        "\n",
        "cols = df.columns.tolist()\n",
        "cols\n",
        "\n",
        "cols = cols[-1:] + cols[:-1]\n",
        "\n",
        "df = df[cols]\n",
        "\n",
        "df.head()"
      ],
      "execution_count": 9,
      "outputs": [
        {
          "output_type": "execute_result",
          "data": {
            "text/html": [
              "<div>\n",
              "<style scoped>\n",
              "    .dataframe tbody tr th:only-of-type {\n",
              "        vertical-align: middle;\n",
              "    }\n",
              "\n",
              "    .dataframe tbody tr th {\n",
              "        vertical-align: top;\n",
              "    }\n",
              "\n",
              "    .dataframe thead th {\n",
              "        text-align: right;\n",
              "    }\n",
              "</style>\n",
              "<table border=\"1\" class=\"dataframe\">\n",
              "  <thead>\n",
              "    <tr style=\"text-align: right;\">\n",
              "      <th></th>\n",
              "      <th>Postcode</th>\n",
              "      <th>Borough</th>\n",
              "      <th>Neighbourhood</th>\n",
              "    </tr>\n",
              "  </thead>\n",
              "  <tbody>\n",
              "    <tr>\n",
              "      <th>0</th>\n",
              "      <td>\\n</td>\n",
              "      <td>M1A\\n</td>\n",
              "      <td>Not assigned\\n</td>\n",
              "    </tr>\n",
              "    <tr>\n",
              "      <th>1</th>\n",
              "      <td>\\n</td>\n",
              "      <td>M2A\\n</td>\n",
              "      <td>Not assigned\\n</td>\n",
              "    </tr>\n",
              "    <tr>\n",
              "      <th>2</th>\n",
              "      <td>Parkwoods\\n</td>\n",
              "      <td>M3A\\n</td>\n",
              "      <td>North York\\n</td>\n",
              "    </tr>\n",
              "    <tr>\n",
              "      <th>3</th>\n",
              "      <td>Victoria Village\\n</td>\n",
              "      <td>M4A\\n</td>\n",
              "      <td>North York\\n</td>\n",
              "    </tr>\n",
              "    <tr>\n",
              "      <th>4</th>\n",
              "      <td>Regent Park, Harbourfront\\n</td>\n",
              "      <td>M5A\\n</td>\n",
              "      <td>Downtown Toronto\\n</td>\n",
              "    </tr>\n",
              "  </tbody>\n",
              "</table>\n",
              "</div>"
            ],
            "text/plain": [
              "                      Postcode Borough       Neighbourhood\n",
              "0                           \\n   M1A\\n      Not assigned\\n\n",
              "1                           \\n   M2A\\n      Not assigned\\n\n",
              "2                  Parkwoods\\n   M3A\\n        North York\\n\n",
              "3           Victoria Village\\n   M4A\\n        North York\\n\n",
              "4  Regent Park, Harbourfront\\n   M5A\\n  Downtown Toronto\\n"
            ]
          },
          "metadata": {
            "tags": []
          },
          "execution_count": 9
        }
      ]
    },
    {
      "cell_type": "code",
      "metadata": {
        "id": "_r-y-QeVj4A0",
        "colab_type": "code",
        "colab": {}
      },
      "source": [
        ""
      ],
      "execution_count": 0,
      "outputs": []
    },
    {
      "cell_type": "markdown",
      "metadata": {
        "id": "86pgosDVj8r5",
        "colab_type": "text"
      },
      "source": [
        "Cleaning the messy string in the Borough column"
      ]
    },
    {
      "cell_type": "code",
      "metadata": {
        "id": "JWqtlwD9j9KJ",
        "colab_type": "code",
        "colab": {
          "base_uri": "https://localhost:8080/",
          "height": 204
        },
        "outputId": "7251fe70-67b3-4369-d598-fae695027fa2"
      },
      "source": [
        "df = df.replace('\\n',' ', regex=True)\n",
        "df.head()"
      ],
      "execution_count": 10,
      "outputs": [
        {
          "output_type": "execute_result",
          "data": {
            "text/html": [
              "<div>\n",
              "<style scoped>\n",
              "    .dataframe tbody tr th:only-of-type {\n",
              "        vertical-align: middle;\n",
              "    }\n",
              "\n",
              "    .dataframe tbody tr th {\n",
              "        vertical-align: top;\n",
              "    }\n",
              "\n",
              "    .dataframe thead th {\n",
              "        text-align: right;\n",
              "    }\n",
              "</style>\n",
              "<table border=\"1\" class=\"dataframe\">\n",
              "  <thead>\n",
              "    <tr style=\"text-align: right;\">\n",
              "      <th></th>\n",
              "      <th>Postcode</th>\n",
              "      <th>Borough</th>\n",
              "      <th>Neighbourhood</th>\n",
              "    </tr>\n",
              "  </thead>\n",
              "  <tbody>\n",
              "    <tr>\n",
              "      <th>0</th>\n",
              "      <td></td>\n",
              "      <td>M1A</td>\n",
              "      <td>Not assigned</td>\n",
              "    </tr>\n",
              "    <tr>\n",
              "      <th>1</th>\n",
              "      <td></td>\n",
              "      <td>M2A</td>\n",
              "      <td>Not assigned</td>\n",
              "    </tr>\n",
              "    <tr>\n",
              "      <th>2</th>\n",
              "      <td>Parkwoods</td>\n",
              "      <td>M3A</td>\n",
              "      <td>North York</td>\n",
              "    </tr>\n",
              "    <tr>\n",
              "      <th>3</th>\n",
              "      <td>Victoria Village</td>\n",
              "      <td>M4A</td>\n",
              "      <td>North York</td>\n",
              "    </tr>\n",
              "    <tr>\n",
              "      <th>4</th>\n",
              "      <td>Regent Park, Harbourfront</td>\n",
              "      <td>M5A</td>\n",
              "      <td>Downtown Toronto</td>\n",
              "    </tr>\n",
              "  </tbody>\n",
              "</table>\n",
              "</div>"
            ],
            "text/plain": [
              "                     Postcode Borough      Neighbourhood\n",
              "0                                M1A       Not assigned \n",
              "1                                M2A       Not assigned \n",
              "2                  Parkwoods     M3A         North York \n",
              "3           Victoria Village     M4A         North York \n",
              "4  Regent Park, Harbourfront     M5A   Downtown Toronto "
            ]
          },
          "metadata": {
            "tags": []
          },
          "execution_count": 10
        }
      ]
    },
    {
      "cell_type": "markdown",
      "metadata": {
        "id": "eZ_2r3LgkF5e",
        "colab_type": "text"
      },
      "source": [
        "**Dropping all cells with a borough that is Not assigned**"
      ]
    },
    {
      "cell_type": "code",
      "metadata": {
        "id": "Y36RFVy1kMxD",
        "colab_type": "code",
        "colab": {
          "base_uri": "https://localhost:8080/",
          "height": 359
        },
        "outputId": "426c770d-9a18-45cc-ca4d-9ed97ceabe9d"
      },
      "source": [
        "df.drop(df.index[df['Borough'] == 'Not assigned'], inplace = True)\n",
        "\n",
        "# Reset the index and dropping the previous index\n",
        "df = df.reset_index(drop=True)\n",
        "\n",
        "df.head(10)"
      ],
      "execution_count": 11,
      "outputs": [
        {
          "output_type": "execute_result",
          "data": {
            "text/html": [
              "<div>\n",
              "<style scoped>\n",
              "    .dataframe tbody tr th:only-of-type {\n",
              "        vertical-align: middle;\n",
              "    }\n",
              "\n",
              "    .dataframe tbody tr th {\n",
              "        vertical-align: top;\n",
              "    }\n",
              "\n",
              "    .dataframe thead th {\n",
              "        text-align: right;\n",
              "    }\n",
              "</style>\n",
              "<table border=\"1\" class=\"dataframe\">\n",
              "  <thead>\n",
              "    <tr style=\"text-align: right;\">\n",
              "      <th></th>\n",
              "      <th>Postcode</th>\n",
              "      <th>Borough</th>\n",
              "      <th>Neighbourhood</th>\n",
              "    </tr>\n",
              "  </thead>\n",
              "  <tbody>\n",
              "    <tr>\n",
              "      <th>0</th>\n",
              "      <td></td>\n",
              "      <td>M1A</td>\n",
              "      <td>Not assigned</td>\n",
              "    </tr>\n",
              "    <tr>\n",
              "      <th>1</th>\n",
              "      <td></td>\n",
              "      <td>M2A</td>\n",
              "      <td>Not assigned</td>\n",
              "    </tr>\n",
              "    <tr>\n",
              "      <th>2</th>\n",
              "      <td>Parkwoods</td>\n",
              "      <td>M3A</td>\n",
              "      <td>North York</td>\n",
              "    </tr>\n",
              "    <tr>\n",
              "      <th>3</th>\n",
              "      <td>Victoria Village</td>\n",
              "      <td>M4A</td>\n",
              "      <td>North York</td>\n",
              "    </tr>\n",
              "    <tr>\n",
              "      <th>4</th>\n",
              "      <td>Regent Park, Harbourfront</td>\n",
              "      <td>M5A</td>\n",
              "      <td>Downtown Toronto</td>\n",
              "    </tr>\n",
              "    <tr>\n",
              "      <th>5</th>\n",
              "      <td>Lawrence Manor, Lawrence Heights</td>\n",
              "      <td>M6A</td>\n",
              "      <td>North York</td>\n",
              "    </tr>\n",
              "    <tr>\n",
              "      <th>6</th>\n",
              "      <td>Queen's Park, Ontario Provincial Government</td>\n",
              "      <td>M7A</td>\n",
              "      <td>Downtown Toronto</td>\n",
              "    </tr>\n",
              "    <tr>\n",
              "      <th>7</th>\n",
              "      <td></td>\n",
              "      <td>M8A</td>\n",
              "      <td>Not assigned</td>\n",
              "    </tr>\n",
              "    <tr>\n",
              "      <th>8</th>\n",
              "      <td>Islington Avenue</td>\n",
              "      <td>M9A</td>\n",
              "      <td>Etobicoke</td>\n",
              "    </tr>\n",
              "    <tr>\n",
              "      <th>9</th>\n",
              "      <td>Malvern, Rouge</td>\n",
              "      <td>M1B</td>\n",
              "      <td>Scarborough</td>\n",
              "    </tr>\n",
              "  </tbody>\n",
              "</table>\n",
              "</div>"
            ],
            "text/plain": [
              "                                       Postcode Borough      Neighbourhood\n",
              "0                                                  M1A       Not assigned \n",
              "1                                                  M2A       Not assigned \n",
              "2                                    Parkwoods     M3A         North York \n",
              "3                             Victoria Village     M4A         North York \n",
              "4                    Regent Park, Harbourfront     M5A   Downtown Toronto \n",
              "5             Lawrence Manor, Lawrence Heights     M6A         North York \n",
              "6  Queen's Park, Ontario Provincial Government     M7A   Downtown Toronto \n",
              "7                                                  M8A       Not assigned \n",
              "8                             Islington Avenue     M9A          Etobicoke \n",
              "9                               Malvern, Rouge     M1B        Scarborough "
            ]
          },
          "metadata": {
            "tags": []
          },
          "execution_count": 11
        }
      ]
    },
    {
      "cell_type": "markdown",
      "metadata": {
        "id": "sJD3G1RIkVpZ",
        "colab_type": "text"
      },
      "source": [
        "**Combining Neighbourhoods based on similar Postcode and Borough**"
      ]
    },
    {
      "cell_type": "code",
      "metadata": {
        "id": "gIUA02S4kbI5",
        "colab_type": "code",
        "colab": {
          "base_uri": "https://localhost:8080/",
          "height": 359
        },
        "outputId": "d8604803-0442-4c71-c2b7-925f12b49682"
      },
      "source": [
        "df = df.groupby(['Postcode', 'Borough'])['Neighbourhood'].apply(','.join).reset_index()\n",
        "df.columns = ['Postcode','Borough','Neighbourhood']\n",
        "df.head(10)"
      ],
      "execution_count": 12,
      "outputs": [
        {
          "output_type": "execute_result",
          "data": {
            "text/html": [
              "<div>\n",
              "<style scoped>\n",
              "    .dataframe tbody tr th:only-of-type {\n",
              "        vertical-align: middle;\n",
              "    }\n",
              "\n",
              "    .dataframe tbody tr th {\n",
              "        vertical-align: top;\n",
              "    }\n",
              "\n",
              "    .dataframe thead th {\n",
              "        text-align: right;\n",
              "    }\n",
              "</style>\n",
              "<table border=\"1\" class=\"dataframe\">\n",
              "  <thead>\n",
              "    <tr style=\"text-align: right;\">\n",
              "      <th></th>\n",
              "      <th>Postcode</th>\n",
              "      <th>Borough</th>\n",
              "      <th>Neighbourhood</th>\n",
              "    </tr>\n",
              "  </thead>\n",
              "  <tbody>\n",
              "    <tr>\n",
              "      <th>0</th>\n",
              "      <td></td>\n",
              "      <td></td>\n",
              "      <td>Canadian postal codes</td>\n",
              "    </tr>\n",
              "    <tr>\n",
              "      <th>1</th>\n",
              "      <td></td>\n",
              "      <td>M1A</td>\n",
              "      <td>Not assigned</td>\n",
              "    </tr>\n",
              "    <tr>\n",
              "      <th>2</th>\n",
              "      <td></td>\n",
              "      <td>M1Y</td>\n",
              "      <td>Not assigned</td>\n",
              "    </tr>\n",
              "    <tr>\n",
              "      <th>3</th>\n",
              "      <td></td>\n",
              "      <td>M1Z</td>\n",
              "      <td>Not assigned</td>\n",
              "    </tr>\n",
              "    <tr>\n",
              "      <th>4</th>\n",
              "      <td></td>\n",
              "      <td>M2A</td>\n",
              "      <td>Not assigned</td>\n",
              "    </tr>\n",
              "    <tr>\n",
              "      <th>5</th>\n",
              "      <td></td>\n",
              "      <td>M2B</td>\n",
              "      <td>Not assigned</td>\n",
              "    </tr>\n",
              "    <tr>\n",
              "      <th>6</th>\n",
              "      <td></td>\n",
              "      <td>M2C</td>\n",
              "      <td>Not assigned</td>\n",
              "    </tr>\n",
              "    <tr>\n",
              "      <th>7</th>\n",
              "      <td></td>\n",
              "      <td>M2E</td>\n",
              "      <td>Not assigned</td>\n",
              "    </tr>\n",
              "    <tr>\n",
              "      <th>8</th>\n",
              "      <td></td>\n",
              "      <td>M2G</td>\n",
              "      <td>Not assigned</td>\n",
              "    </tr>\n",
              "    <tr>\n",
              "      <th>9</th>\n",
              "      <td></td>\n",
              "      <td>M2S</td>\n",
              "      <td>Not assigned</td>\n",
              "    </tr>\n",
              "  </tbody>\n",
              "</table>\n",
              "</div>"
            ],
            "text/plain": [
              "  Postcode Borough           Neighbourhood\n",
              "0                   Canadian postal codes \n",
              "1             M1A            Not assigned \n",
              "2             M1Y            Not assigned \n",
              "3             M1Z            Not assigned \n",
              "4             M2A            Not assigned \n",
              "5             M2B            Not assigned \n",
              "6             M2C            Not assigned \n",
              "7             M2E            Not assigned \n",
              "8             M2G            Not assigned \n",
              "9             M2S            Not assigned "
            ]
          },
          "metadata": {
            "tags": []
          },
          "execution_count": 12
        }
      ]
    },
    {
      "cell_type": "markdown",
      "metadata": {
        "id": "3xLN6U8ikhVV",
        "colab_type": "text"
      },
      "source": [
        "**Removing any space in the start of the string**"
      ]
    },
    {
      "cell_type": "code",
      "metadata": {
        "id": "cf3Of1v3kl3j",
        "colab_type": "code",
        "colab": {}
      },
      "source": [
        "\n",
        "df['Neighbourhood'] = df['Neighbourhood'].str.strip()"
      ],
      "execution_count": 0,
      "outputs": []
    },
    {
      "cell_type": "markdown",
      "metadata": {
        "id": "aKo_j3WOktDl",
        "colab_type": "text"
      },
      "source": [
        "**Assigning Borough values to the Neignbourhood where vlaue is \"Not assigned\"**"
      ]
    },
    {
      "cell_type": "code",
      "metadata": {
        "id": "2CqbaByJkwP7",
        "colab_type": "code",
        "colab": {}
      },
      "source": [
        "df.loc[df['Neighbourhood'] == 'Not assigned', 'Neighbourhood'] = df['Borough']"
      ],
      "execution_count": 0,
      "outputs": []
    },
    {
      "cell_type": "code",
      "metadata": {
        "id": "I_ZVw3Jkkyzg",
        "colab_type": "code",
        "colab": {
          "base_uri": "https://localhost:8080/",
          "height": 49
        },
        "outputId": "afeb425d-901e-405d-e641-16f341096df5"
      },
      "source": [
        "# Check if the Neighbourhood for Queen's Park changed \n",
        "df[df['Borough'] == 'Queen\\'s Park']"
      ],
      "execution_count": 15,
      "outputs": [
        {
          "output_type": "execute_result",
          "data": {
            "text/html": [
              "<div>\n",
              "<style scoped>\n",
              "    .dataframe tbody tr th:only-of-type {\n",
              "        vertical-align: middle;\n",
              "    }\n",
              "\n",
              "    .dataframe tbody tr th {\n",
              "        vertical-align: top;\n",
              "    }\n",
              "\n",
              "    .dataframe thead th {\n",
              "        text-align: right;\n",
              "    }\n",
              "</style>\n",
              "<table border=\"1\" class=\"dataframe\">\n",
              "  <thead>\n",
              "    <tr style=\"text-align: right;\">\n",
              "      <th></th>\n",
              "      <th>Postcode</th>\n",
              "      <th>Borough</th>\n",
              "      <th>Neighbourhood</th>\n",
              "    </tr>\n",
              "  </thead>\n",
              "  <tbody>\n",
              "  </tbody>\n",
              "</table>\n",
              "</div>"
            ],
            "text/plain": [
              "Empty DataFrame\n",
              "Columns: [Postcode, Borough, Neighbourhood]\n",
              "Index: []"
            ]
          },
          "metadata": {
            "tags": []
          },
          "execution_count": 15
        }
      ]
    },
    {
      "cell_type": "code",
      "metadata": {
        "id": "eZV824O6k5wY",
        "colab_type": "code",
        "colab": {
          "base_uri": "https://localhost:8080/",
          "height": 34
        },
        "outputId": "505ea64b-790b-48fe-d45f-6692379ea024"
      },
      "source": [
        "# Check the shape of the data frame\n",
        "df.shape"
      ],
      "execution_count": 16,
      "outputs": [
        {
          "output_type": "execute_result",
          "data": {
            "text/plain": [
              "(181, 3)"
            ]
          },
          "metadata": {
            "tags": []
          },
          "execution_count": 16
        }
      ]
    },
    {
      "cell_type": "code",
      "metadata": {
        "id": "g2JagO_Ek95f",
        "colab_type": "code",
        "colab": {}
      },
      "source": [
        "df.to_csv(r'df_can.csv')"
      ],
      "execution_count": 0,
      "outputs": []
    },
    {
      "cell_type": "code",
      "metadata": {
        "id": "kBEQJo3xlBVq",
        "colab_type": "code",
        "colab": {}
      },
      "source": [
        ""
      ],
      "execution_count": 0,
      "outputs": []
    }
  ]
}